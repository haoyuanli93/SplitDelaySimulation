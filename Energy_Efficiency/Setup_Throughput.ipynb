{
 "cells": [
  {
   "cell_type": "code",
   "execution_count": 1,
   "metadata": {},
   "outputs": [],
   "source": [
    "import numpy as np\n",
    "import matplotlib.pyplot as plt\n",
    "import h5py as h5\n",
    "from scipy import stats"
   ]
  },
  {
   "cell_type": "markdown",
   "metadata": {},
   "source": [
    "# Load run 224 and 225 data"
   ]
  },
  {
   "cell_type": "code",
   "execution_count": 2,
   "metadata": {},
   "outputs": [],
   "source": [
    "def load_data(run_id):\n",
    "    file_name = \"/reg/d/psdm/xpp/xppx40318/hdf5/smalldata/xppx40318_Run{}.h5\".format(run_id)\n",
    "\n",
    "    with h5.File(file_name, 'r') as h5file:\n",
    "        #print(list(h5file['ipm2'].keys()))\n",
    "        imp_value = np.array(h5file['ipm2/sum'])\n",
    "\n",
    "        #print(list(h5file['ai'].keys()))\n",
    "        analog_in = np.array(h5file[\"ai/ch01\"])\n",
    "\n",
    "\n",
    "    mask = np.invert(np.isnan(analog_in))\n",
    "    mask[analog_in>=1.75] = False\n",
    "\n",
    "    ipm2 = imp_value[mask]\n",
    "    intensity_meter = analog_in[mask]\n",
    "    \n",
    "    return ipm2, intensity_meter"
   ]
  },
  {
   "cell_type": "code",
   "execution_count": 3,
   "metadata": {},
   "outputs": [
    {
     "name": "stderr",
     "output_type": "stream",
     "text": [
      "/cds/sw/ds/ana/conda1/inst/envs/ana-4.0.11/lib/python2.7/site-packages/ipykernel/__main__.py:13: RuntimeWarning: invalid value encountered in greater_equal\n"
     ]
    }
   ],
   "source": [
    "ipm2_ini, intensity_meter_ini = load_data(225)   # For ipm 2\n",
    "ipm2_g2, intensity_meter_g2 = load_data(226)   # For g2\n",
    "ipm2_sd, intensity_meter_sd = load_data(223)   # For after SD"
   ]
  },
  {
   "cell_type": "markdown",
   "metadata": {},
   "source": [
    "# Get the norminal energy efficiency measured with the intensity meter"
   ]
  },
  {
   "cell_type": "code",
   "execution_count": 4,
   "metadata": {},
   "outputs": [],
   "source": [
    "curve_ini = stats.linregress(y=intensity_meter_ini, x=ipm2_ini)\n",
    "curve_g2 = stats.linregress(y=intensity_meter_g2 / 10., x=ipm2_g2 )\n",
    "curve_sd = stats.linregress(y=intensity_meter_sd / 10., x=ipm2_sd )"
   ]
  },
  {
   "cell_type": "code",
   "execution_count": 6,
   "metadata": {},
   "outputs": [],
   "source": [
    "def get_efficiency_and_uncertainty(direct_beam, diffraction):\n",
    "    \n",
    "    # Get efficiency\n",
    "    _efficiency = diffraction.slope / direct_beam.slope\n",
    "    #print(\"The energy efficiency is {:.2f}%\".format(_efficiency * 100))\n",
    "    \n",
    "    # Get the relative efficiency of the efficiency\n",
    "    relative_std = (diffraction.stderr / diffraction.slope) ** 2\n",
    "    relative_std += (direct_beam.stderr / direct_beam.slope) ** 2\n",
    "    relative_std = np.sqrt(relative_std)\n",
    "    \n",
    "    # Get the uncertainty of the efficiency\n",
    "    _eff_std = _efficiency * relative_std\n",
    "    \n",
    "    #print(\"The standard deviation of the efficiency is {:.2f}%\".format(100 * _eff_std))\n",
    "    return _efficiency, _eff_std"
   ]
  },
  {
   "cell_type": "code",
   "execution_count": 9,
   "metadata": {},
   "outputs": [
    {
     "name": "stdout",
     "output_type": "stream",
     "text": [
      "The energy efficiency after g2 is 5.99%. The uncertainty is 0.02%\n",
      "The energy efficiency after Sd is 11.13%. The uncertainty is 0.03%\n"
     ]
    }
   ],
   "source": [
    "eff_g2, eff_g2_std = get_efficiency_and_uncertainty(curve_ini, curve_g2)\n",
    "eff_sd, eff_sd_std = get_efficiency_and_uncertainty(curve_ini, curve_sd)\n",
    "\n",
    "print(\"The energy efficiency after g2 is {:.2f}%. The uncertainty is {:.2f}%\".format(100 * eff_g2, 100 *eff_g2_std))\n",
    "print(\"The energy efficiency after Sd is {:.2f}%. The uncertainty is {:.2f}%\".format(100 * eff_sd, 100 *eff_sd_std))"
   ]
  },
  {
   "cell_type": "markdown",
   "metadata": {},
   "source": [
    "## Because there are systematic error in the intensity meter. Therefore, manually adjust the uncertainty to be 10% of the absolute value"
   ]
  },
  {
   "cell_type": "code",
   "execution_count": 10,
   "metadata": {},
   "outputs": [
    {
     "name": "stdout",
     "output_type": "stream",
     "text": [
      "After manual adjustment, the result become:\n",
      "The energy efficiency after g2 is 5.99%. The uncertainty is 0.62%\n",
      "The energy efficiency after Sd is 11.13%. The uncertainty is 1.15%\n"
     ]
    }
   ],
   "source": [
    "eff_g2_std += 0.1 * eff_g2\n",
    "eff_sd_std += 0.1 * eff_sd\n",
    "\n",
    "print(\"After manual adjustment, the result become:\")\n",
    "print(\"The energy efficiency after g2 is {:.2f}%. The uncertainty is {:.2f}%\".format(100 * eff_g2, 100 *eff_g2_std))\n",
    "print(\"The energy efficiency after Sd is {:.2f}%. The uncertainty is {:.2f}%\".format(100 * eff_sd, 100 *eff_sd_std))"
   ]
  },
  {
   "cell_type": "markdown",
   "metadata": {},
   "source": [
    "# Calculate the energy efficiency of the second gratings"
   ]
  },
  {
   "cell_type": "code",
   "execution_count": 20,
   "metadata": {},
   "outputs": [
    {
     "name": "stdout",
     "output_type": "stream",
     "text": [
      "The g2 transmission efficiency is 78.84 % with uncertainty 2.03%\n"
     ]
    }
   ],
   "source": [
    "diamond_coef = 7.3453 / 1e4\n",
    "\n",
    "# Calculate the transmission\n",
    "g2_thickness = 100 / np.cos(np.deg2rad(72))\n",
    "g2_transmission = np.exp( - g2_thickness * diamond_coef)\n",
    "\n",
    "# Calculate the uncertainty of the transmission\n",
    "# Get the upper limit\n",
    "g2_thickness_ul = 100 / np.cos(np.deg2rad(70))  \n",
    "g2_transmission_ul = np.exp( - g2_thickness_ul * diamond_coef)\n",
    "# Get the lower limit\n",
    "g2_thickness_ll = 100 / np.cos(np.deg2rad(74))  \n",
    "g2_transmission_ll = np.exp( - g2_thickness_ll * diamond_coef)\n",
    "\n",
    "g2_trans_std = (g2_transmission_ul - g2_transmission_ll) / 2.\n",
    "\n",
    "print(\"The g2 transmission efficiency is {:.2f} % with uncertainty {:.2f}%\".format(g2_transmission * 100 ,\n",
    "                                                                                        g2_trans_std * 100))"
   ]
  },
  {
   "cell_type": "markdown",
   "metadata": {},
   "source": [
    "## Because after g2, one has measured the total energy rather than energy in the +-1 order of diffraction. Therefore, this needs correction"
   ]
  },
  {
   "cell_type": "code",
   "execution_count": 21,
   "metadata": {},
   "outputs": [
    {
     "name": "stdout",
     "output_type": "stream",
     "text": [
      "After currection, the result become:\n",
      "The energy efficiency after g2 is 1.52%. The uncertainty is 0.22%\n"
     ]
    }
   ],
   "source": [
    "# Assume the +-1 order of diffraction has energy efficiency of 20% with uncertainty of 2 %.\n",
    "eff_g2_diff = 0.2\n",
    "eff_g2_diff_std = 0.02\n",
    "\n",
    "# Get the energy efficiency of the total device\n",
    "eff_g2_corrected = eff_g2 / g2_transmission * eff_g2_diff\n",
    "\n",
    "# Get the uncertainty of this estimation\n",
    "eff_g2_corrected_std = ((eff_g2_std / eff_g2) ** 2 + \n",
    "                        (g2_trans_std / g2_transmission) ** 2 + \n",
    "                        (eff_g2_diff_std / eff_g2_diff)**2)\n",
    "eff_g2_corrected_std = np.sqrt(eff_g2_corrected_std)\n",
    "eff_g2_corrected_std *= eff_g2_corrected\n",
    "\n",
    "print(\"After currection, the result become:\")\n",
    "print(\"The energy efficiency after g2 is {:.2f}%. The uncertainty is {:.2f}%\".format(100 * eff_g2_corrected, \n",
    "                                                                                     100 * eff_g2_corrected_std))"
   ]
  },
  {
   "cell_type": "code",
   "execution_count": 33,
   "metadata": {},
   "outputs": [],
   "source": [
    "# calculate the uncertainty of double grating"
   ]
  },
  {
   "cell_type": "code",
   "execution_count": 35,
   "metadata": {},
   "outputs": [
    {
     "name": "stdout",
     "output_type": "stream",
     "text": [
      "0.0016\n"
     ]
    }
   ],
   "source": [
    "uncertainty = ((eff_g2_diff_std / eff_g2_diff) ** 2 + (eff_g2_diff_std / eff_g2_diff) ** 2)\n",
    "uncertainty = eff_g2_diff * 2 * eff_g2_diff * uncertainty\n",
    "print(uncertainty)"
   ]
  },
  {
   "cell_type": "markdown",
   "metadata": {},
   "source": [
    "# Calculate the energy efficiency of the SD table"
   ]
  },
  {
   "cell_type": "code",
   "execution_count": 23,
   "metadata": {},
   "outputs": [],
   "source": [
    "# The absorption coefficient of different material\n",
    "kap_coef = 1. / 2257.9 # convert to um\n",
    "air_coef = 0.618 / 1e6 # convert to um\n",
    "diamond_coef = 7.3453 / 1e4"
   ]
  },
  {
   "cell_type": "code",
   "execution_count": 28,
   "metadata": {},
   "outputs": [
    {
     "name": "stdout",
     "output_type": "stream",
     "text": [
      "After estimation\n",
      "The energy efficiency before sd is 69.55%. The uncertainty is 1.99%\n"
     ]
    }
   ],
   "source": [
    "# List the length of materials before the SD table\n",
    "kap_len = 60\n",
    "air_len = 0.16 * 1e6 # Convert to um\n",
    "\n",
    "# Assume that the first grating has the same behavior as the second grating with considering the energy efficiency\n",
    "\n",
    "# Calculat the energy efficiency\n",
    "sd_upstream_energy = g2_transmission * np.exp(-air_len * air_coef) * np.exp(-kap_len * kap_coef)\n",
    "\n",
    "# Calculate the uncertainties\n",
    "air_eff = np.exp(-air_len * air_coef)\n",
    "air_eff_std = (np.exp(-(air_len - 0.02 * 1e6) * air_coef) - np.exp(-(air_len + 0.02 * 1e6) * air_coef)) / 2.\n",
    "\n",
    "kap_eff = np.exp(-kap_len * kap_coef)\n",
    "kap_eff_std = (np.exp(-(kap_len - 3) * kap_coef) - np.exp(-(kap_len +3) * kap_coef)) / 2.\n",
    "\n",
    "# Calculate the total uncertainty\n",
    "sd_upstream_energy_std = ((g2_trans_std / g2_transmission) ** 2 +\n",
    "                          (air_eff_std / air_eff) ** 2 +\n",
    "                          (kap_eff_std / kap_eff) ** 2)\n",
    "sd_upstream_energy_std = np.sqrt(sd_upstream_energy_std)\n",
    "sd_upstream_energy_std *= sd_upstream_energy\n",
    "\n",
    "print(\"After estimation\")\n",
    "print(\"The energy efficiency before sd is {:.2f}%. The uncertainty is {:.2f}%\".format(100 * sd_upstream_energy, \n",
    "                                                                                     100 * sd_upstream_energy_std))"
   ]
  },
  {
   "cell_type": "code",
   "execution_count": 29,
   "metadata": {},
   "outputs": [
    {
     "name": "stdout",
     "output_type": "stream",
     "text": [
      "After estimation\n",
      "The energy efficiency of sd table is 31.53%. The uncertainty is 4.69%\n"
     ]
    }
   ],
   "source": [
    "# Calculate the energy efficiency of the sd table\n",
    "sd_table_eff = eff_sd / sd_upstream_energy / (eff_g2_diff * 2) * g2_transmission\n",
    "\n",
    "sd_table_eff_std = ((eff_sd_std / eff_sd) ** 2 +\n",
    "                    (sd_upstream_energy_std / sd_upstream_energy) ** 2 +\n",
    "                    (eff_g2_diff_std / eff_g2_diff) ** 2 +\n",
    "                    (g2_trans_std / g2_transmission) ** 2)\n",
    "\n",
    "sd_table_eff_std = np.sqrt(sd_table_eff_std)\n",
    "sd_table_eff_std *= sd_table_eff\n",
    "print(\"After estimation\")\n",
    "print(\"The energy efficiency of sd table is {:.2f}%. The uncertainty is {:.2f}%\".format(100 * sd_table_eff, \n",
    "                                                                                     100 * sd_table_eff_std))"
   ]
  },
  {
   "cell_type": "markdown",
   "metadata": {},
   "source": [
    "# Calculate the energy efficiency of the channel-cut crystals directly"
   ]
  },
  {
   "cell_type": "code",
   "execution_count": 32,
   "metadata": {},
   "outputs": [
    {
     "name": "stdout",
     "output_type": "stream",
     "text": [
      "After estimation\n",
      "The energy efficiency of CC is 37.75%. The uncertainty is 5.73%\n"
     ]
    }
   ],
   "source": [
    "##################################################################################\n",
    "#       Kapton coef\n",
    "##################################################################################\n",
    "vcc_kapton_length = 30 * 2 + 125 + 3 * 50.\n",
    "cc_kapton_length = 30 * 2 + 100.\n",
    "\n",
    "kap_len =   ( vcc_kapton_length + cc_kapton_length ) / 2 / 1e6\n",
    "kap_len_std = (vcc_kapton_length - cc_kapton_length + 30 ) / 2 / 1e6\n",
    "\n",
    "kap_eff = np.exp(-kap_coef * kap_len)\n",
    "kap_eff_std = np.exp(-kap_coef * (kap_len - kap_len_std)) - np.exp(-kap_coef * (kap_len + kap_len_std))\n",
    "\n",
    "##################################################################################\n",
    "#        Air coef\n",
    "##################################################################################\n",
    "air_len = 0.1 + 1.2 * 0.1 # Conver the air path in the helium to pure air\n",
    "air_len *= 1e6\n",
    "\n",
    "air_eff = np.exp(-air_len * air_coef)\n",
    "\n",
    "air_eff_std = (np.exp(-(air_len - 0.05 * 1e6) * air_coef) - np.exp(-(air_len + 0.05 * 1e6) * air_coef)) / 2.\n",
    "\n",
    "##################################################################################\n",
    "#        Diamend coef\n",
    "##################################################################################\n",
    "diamond_thickness =  60\n",
    "\n",
    "diamond_eff = np.exp(- diamond_coef * diamond_thickness)\n",
    "diamond_eff_std = (np.exp(- diamond_coef * (diamond_thickness - 2)) - np.exp(- diamond_coef * (diamond_thickness + 2))) / 2\n",
    "\n",
    "###########################################################\n",
    "#      Calculate the Channel-cut efficiency\n",
    "###########################################################\n",
    "cc_eff = sd_table_eff / diamond_eff / air_eff / kap_eff\n",
    "\n",
    "cc_eff_std = ((sd_table_eff_std / sd_table_eff) ** 2 +\n",
    "              (diamond_eff_std / diamond_eff) ** 2 +\n",
    "              (air_eff_std / air_eff) ** 2 + \n",
    "              (kap_eff_std / kap_eff) ** 2)\n",
    "cc_eff_std = np.sqrt(cc_eff_std)\n",
    "cc_eff_std *= cc_eff\n",
    "\n",
    "print(\"After estimation\")\n",
    "print(\"The energy efficiency of CC is {:.2f}%. The uncertainty is {:.2f}%\".format(100 * cc_eff, \n",
    "                                                                                     100 * cc_eff_std))"
   ]
  },
  {
   "cell_type": "markdown",
   "metadata": {},
   "source": [
    "# Calculate the loss of other components"
   ]
  },
  {
   "cell_type": "code",
   "execution_count": 36,
   "metadata": {},
   "outputs": [
    {
     "name": "stdout",
     "output_type": "stream",
     "text": [
      "(0.503231566213772, 0.3354591062229563)\n"
     ]
    }
   ],
   "source": [
    "loss = eff_g2_corrected / cc_eff / (eff_g2_diff * 2 * eff_g2_diff)\n",
    "\n",
    "loss_std = ((eff_g2_corrected_std / eff_g2_corrected) ** 2 +\n",
    "            (cc_eff_std / cc_eff) ** 2+\n",
    "            4 * (eff_g2_diff_std / eff_g2_diff))\n",
    "loss_std = loss * np.sqrt(loss_std)\n",
    "\n",
    "print(loss, loss_std)"
   ]
  },
  {
   "cell_type": "code",
   "execution_count": null,
   "metadata": {},
   "outputs": [],
   "source": []
  }
 ],
 "metadata": {
  "kernelspec": {
   "display_name": "LCLS-I py2",
   "language": "python",
   "name": "ana1-current"
  },
  "language_info": {
   "codemirror_mode": {
    "name": "ipython",
    "version": 2
   },
   "file_extension": ".py",
   "mimetype": "text/x-python",
   "name": "python",
   "nbconvert_exporter": "python",
   "pygments_lexer": "ipython2",
   "version": "2.7.15"
  }
 },
 "nbformat": 4,
 "nbformat_minor": 2
}
