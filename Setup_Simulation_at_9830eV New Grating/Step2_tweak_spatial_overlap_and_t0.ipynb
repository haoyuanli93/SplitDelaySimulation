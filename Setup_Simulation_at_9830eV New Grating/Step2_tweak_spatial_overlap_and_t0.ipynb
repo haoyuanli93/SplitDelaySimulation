{
 "cells": [
  {
   "cell_type": "code",
   "execution_count": 1,
   "metadata": {
    "scrolled": false
   },
   "outputs": [],
   "source": [
    "import numpy as np\n",
    "import sys\n",
    "import matplotlib.pyplot as plt\n",
    "\n",
    "sys.path.append(r\"../\")\n",
    "\n",
    "from CrystalDiff import util, pulse, lclsutil, crystal, lightpath, multidevice\n",
    "from CrystalDiff.SplitDelayCrystalModel import get_crystal_in_delay_fixed_branch, get_crystals_in_delayed_branch\n",
    "from CrystalDiff.SplitDelayCrystalModel import align_delay_fixed_branch, align_delayed_branch, get_light_path"
   ]
  },
  {
   "cell_type": "markdown",
   "metadata": {},
   "source": [
    "# Define the pulse and grating"
   ]
  },
  {
   "cell_type": "code",
   "execution_count": 2,
   "metadata": {},
   "outputs": [],
   "source": [
    "# ----------------------------------------------------------------------------------------------------------\n",
    "#                       Step 1: Grating\n",
    "# ---------------------------------------------------------------------------------------------------------- \n",
    "grating_list = [crystal.RectangleGrating(), crystal.RectangleGrating()]\n",
    "grating_list[0].set_a(0.5)\n",
    "grating_list[0].set_b(0.5)\n",
    "grating_list[1].set_a(0.5)\n",
    "grating_list[1].set_b(0.5)\n",
    "\n",
    "\n",
    "# -----------------------\n",
    "#   Set spatial position\n",
    "# -----------------------\n",
    "# Grating_position_1\n",
    "g_position_1 = np.array([252.70, 660.04, 140.04]) * 1000 + np.array([0, 652.5484, -2.9e6])\n",
    "grating_list[0].set_surface_point(g_position_1)\n",
    "\n",
    "g_position_2 = np.array([252.63, 659.55, 1065.14]) * 1000 + np.array([0, -652.5484, 2.1e6])\n",
    "grating_list[1].set_surface_point(g_position_2)\n",
    "\n",
    "\n",
    "# ----------------------------------------------------------------------------------------------------------\n",
    "#                       Step 2: Pulse\n",
    "# ----------------------------------------------------------------------------------------------------------\n",
    "energy_center = 9.5  # keV\n",
    "pre_length = 1e6    # Distance of the pulse from the first grating\n",
    "\n",
    "# Set up the pulse\n",
    "FWHM = 50 # (um)\n",
    "\n",
    "my_pulse = pulse.GaussianPulse3D()\n",
    "my_pulse.set_pulse_properties(central_energy=energy_center,\n",
    "                              polar=[1., 0., 0.],\n",
    "                              sigma_x=FWHM /2. / np.sqrt(np.log(2)) / util.c,\n",
    "                              sigma_y=FWHM /2. / np.sqrt(np.log(2)) / util.c,\n",
    "                              sigma_z=1.,\n",
    "                              x0=g_position_1 - np.array([0., 0., pre_length]))\n",
    "\n",
    "# ----------------------------------------------------------------------------------------------------------\n",
    "#                      Grating splitting angle\n",
    "# ----------------------------------------------------------------------------------------------------------\n",
    "dtheta = np.arctan(grating_list[0].base_wave_vector[1] / my_pulse.klen0)  # This is the deviation angle."
   ]
  },
  {
   "cell_type": "code",
   "execution_count": 3,
   "metadata": {},
   "outputs": [
    {
     "data": {
      "text/plain": [
       "0.0074776538908360585"
      ]
     },
     "execution_count": 3,
     "metadata": {},
     "output_type": "execute_result"
    }
   ],
   "source": [
    "np.rad2deg(dtheta)"
   ]
  },
  {
   "cell_type": "code",
   "execution_count": 4,
   "metadata": {},
   "outputs": [
    {
     "data": {
      "text/plain": [
       "0.5481406574664867"
      ]
     },
     "execution_count": 4,
     "metadata": {},
     "output_type": "execute_result"
    }
   ],
   "source": [
    "2.1 * 2 * np.sin(dtheta) * 1000"
   ]
  },
  {
   "cell_type": "code",
   "execution_count": 5,
   "metadata": {},
   "outputs": [
    {
     "data": {
      "text/plain": [
       "0.1305096803491635"
      ]
     },
     "execution_count": 5,
     "metadata": {},
     "output_type": "execute_result"
    }
   ],
   "source": [
    "1 * np.sin(dtheta) * 1000"
   ]
  },
  {
   "cell_type": "markdown",
   "metadata": {},
   "source": [
    "# Define and align crystals"
   ]
  },
  {
   "cell_type": "code",
   "execution_count": 6,
   "metadata": {},
   "outputs": [],
   "source": [
    "lattice_distance = 1.9201 * 1e-4   # Lattice plane distance in um\n",
    "\n",
    "chi_dict = {\"chi0\": complex(-0.10106E-04, 0.15913E-06),\n",
    "            \"chih_sigma\": complex(0.61405E-05, -0.15323E-06),\n",
    "            \"chihbar_sigma\": complex(0.61405E-05, -0.15323E-06),\n",
    "            \"chih_pi\": complex(0.48157E-05, -0.11872E-06),\n",
    "            \"chihbar_pi\": complex(0.48157E-05, -0.11872E-06)\n",
    "            }\n",
    "\n",
    "# Crystal in Delayed branch\n",
    "crystal_list_1 = get_crystals_in_delayed_branch(asymmetric_angles=np.deg2rad(np.array([0,-5,5,0,\n",
    "                                                                                       0,5,-5,0])),\n",
    "                                               lattice_distance=lattice_distance,\n",
    "                                               chi_dict=chi_dict)\n",
    "\n",
    "# Crystal in Delay fixed branch\n",
    "crystal_list_2 = get_crystal_in_delay_fixed_branch(lattice_distance=lattice_distance,\n",
    "                                               chi_dict=chi_dict)\n",
    "\n",
    "###################################################################\n",
    "#    Align the crystals\n",
    "###################################################################\n",
    "# Bragg angle\n",
    "bragg = np.radians(19.174)\n",
    "\n",
    "#################################################################\n",
    "#        Delayed Branch\n",
    "#################################################################\n",
    "crystal_list_1 = align_delayed_branch(delayed_branch_crystals = crystal_list_1,\n",
    "                                      angle_offset = dtheta,\n",
    "                                      bragg = bragg + 520e-6,\n",
    "                                      tweak = np.array([0,-995e-6,-995e-6,0]))\n",
    "\n",
    "#################################################################\n",
    "#        Delay-fixed Branch\n",
    "#################################################################\n",
    "crystal_list_2 = align_delay_fixed_branch(delay_fixed_branch_crystals = crystal_list_2,\n",
    "                                          angle_offset = -dtheta,\n",
    "                                          bragg =  bragg + 522e-6,\n",
    "                                          tweak = 1010e-6)"
   ]
  },
  {
   "cell_type": "markdown",
   "metadata": {},
   "source": [
    "# Tune crystal positions to achieve spatial and temporal overlap"
   ]
  },
  {
   "cell_type": "code",
   "execution_count": 7,
   "metadata": {},
   "outputs": [],
   "source": [
    "t23_motion = 0.\n",
    "t5_motion = -358.\n",
    "\n",
    "(new_path_upper,\n",
    " new_path_lower,\n",
    " new_crystal,\n",
    " new_crystal_lower) = get_light_path(ref_crystal_up = crystal_list_1,\n",
    "                                     ref_crystal_low = crystal_list_2,\n",
    "                                     ref_grating = grating_list,\n",
    "                                     ref_pulse = my_pulse,\n",
    "                                     shift_upper = np.array([2325.5 - 360,] * 2 +\n",
    "                                                            [-2325.5 - 360,] * 2 + \n",
    "                                                            [0,] * 2 +\n",
    "                                                            [3961 + t5_motion,] * 2),\n",
    "                                     shift_lower = [0,] * 2 + [900,]*2)"
   ]
  },
  {
   "cell_type": "code",
   "execution_count": 8,
   "metadata": {},
   "outputs": [
    {
     "name": "stdout",
     "output_type": "stream",
     "text": [
      "-------------------------------\n",
      "Grating position: \n",
      "New upper: 665191.7274\n",
      "New lower: 661155.3073\n",
      "-------------------------------\n",
      "Light Path position: \n",
      "New upper: 6959320.9502\n",
      "New lower: 6958569.0639\n",
      "Difference: 751.8863\n"
     ]
    }
   ],
   "source": [
    "print(\"-------------------------------\")\n",
    "print(\"Grating position: \")\n",
    "print(\"New upper: {:.4f}\".format(new_path_upper[0][-2, 1]))\n",
    "print(\"New lower: {:.4f}\".format(new_path_lower[0][-2, 1]))\n",
    "\n",
    "print(\"-------------------------------\")\n",
    "print(\"Light Path position: \")\n",
    "print(\"New upper: {:.4f}\".format(util.get_total_path_length(new_path_upper[0][:-1])))\n",
    "print(\"New lower: {:.4f}\".format(util.get_total_path_length(new_path_lower[0][:-1])))\n",
    "print(\"Difference: {:.4f}\".format(util.get_total_path_length(new_path_upper[0][:-1])\n",
    "                                 -util.get_total_path_length(new_path_lower[0][:-1])))"
   ]
  },
  {
   "cell_type": "code",
   "execution_count": 9,
   "metadata": {},
   "outputs": [],
   "source": [
    "t23_motion = 10000.\n",
    "t5_motion = -358.\n",
    "\n",
    "(new_path_upper,\n",
    " new_path_lower,\n",
    " new_crystal,\n",
    " new_crystal_lower) = get_light_path(ref_crystal_up = crystal_list_1,\n",
    "                                     ref_crystal_low = crystal_list_2,\n",
    "                                     ref_grating = grating_list,\n",
    "                                     ref_pulse = my_pulse,\n",
    "                                     shift_upper = np.array([2325.5 - 360 + t23_motion, ] * 2 +\n",
    "                                                            [-2325.5 - 360 + t23_motion,] * 2 + \n",
    "                                                            [0,] * 2 +\n",
    "                                                            [3961 + t5_motion,] * 2),\n",
    "                                     shift_lower = [0,] * 2 + [900,]*2)"
   ]
  },
  {
   "cell_type": "code",
   "execution_count": 10,
   "metadata": {},
   "outputs": [
    {
     "name": "stdout",
     "output_type": "stream",
     "text": [
      "-------------------------------\n",
      "Grating position: \n",
      "New upper: 665616.7777\n",
      "New lower: 661155.3073\n",
      "-------------------------------\n",
      "Light Path position: \n",
      "New upper: 6962147.3454\n",
      "New lower: 6958569.0639\n",
      "Difference: 3578.2814\n"
     ]
    }
   ],
   "source": [
    "print(\"-------------------------------\")\n",
    "print(\"Grating position: \")\n",
    "print(\"New upper: {:.4f}\".format(new_path_upper[0][-2, 1]))\n",
    "print(\"New lower: {:.4f}\".format(new_path_lower[0][-2, 1]))\n",
    "\n",
    "print(\"-------------------------------\")\n",
    "print(\"Light Path position: \")\n",
    "print(\"New upper: {:.4f}\".format(util.get_total_path_length(new_path_upper[0][:-1])))\n",
    "print(\"New lower: {:.4f}\".format(util.get_total_path_length(new_path_lower[0][:-1])))\n",
    "print(\"Difference: {:.4f}\".format(util.get_total_path_length(new_path_upper[0][:-1])\n",
    "                                 -util.get_total_path_length(new_path_lower[0][:-1])))"
   ]
  },
  {
   "cell_type": "code",
   "execution_count": 11,
   "metadata": {},
   "outputs": [
    {
     "name": "stdout",
     "output_type": "stream",
     "text": [
      "Therefore, when crystals are aligned perfectly,\n",
      "when scan the delay time by 10mm, the horizontal shift of the beam is only 0.03um.\n"
     ]
    }
   ],
   "source": [
    "print(\"Therefore, when crystals are aligned perfectly,\\n\"\n",
    "      \"when scan the delay time by 10mm, the horizontal shift of the beam is only 0.03um.\")"
   ]
  },
  {
   "cell_type": "code",
   "execution_count": 12,
   "metadata": {},
   "outputs": [
    {
     "data": {
      "text/plain": [
       "1263.0686890313366"
      ]
     },
     "execution_count": 12,
     "metadata": {},
     "output_type": "execute_result"
    }
   ],
   "source": [
    "353.1716 / (353.1716 + 2442.9677) * 1e4"
   ]
  },
  {
   "cell_type": "code",
   "execution_count": 13,
   "metadata": {},
   "outputs": [],
   "source": [
    "t23_motion = 1263.0686890313366\n",
    "t5_motion = -358.\n",
    "\n",
    "(new_path_upper,\n",
    " new_path_lower,\n",
    " new_crystal,\n",
    " new_crystal_lower) = get_light_path(ref_crystal_up = crystal_list_1,\n",
    "                                     ref_crystal_low = crystal_list_2,\n",
    "                                     ref_grating = grating_list,\n",
    "                                     ref_pulse = my_pulse,\n",
    "                                     shift_upper = np.array([2325.5 - 360 + t23_motion, ] * 2 +\n",
    "                                                            [-2325.5 - 360 + t23_motion,] * 2 + \n",
    "                                                            [0,] * 2 +\n",
    "                                                            [3961 + t5_motion,] * 2),\n",
    "                                     shift_lower = [0,] * 2 + [1900,]*2)"
   ]
  },
  {
   "cell_type": "code",
   "execution_count": 14,
   "metadata": {},
   "outputs": [
    {
     "name": "stdout",
     "output_type": "stream",
     "text": [
      "-------------------------------\n",
      "Grating position: \n",
      "New upper: 665245.4141\n",
      "New lower: 661155.3073\n",
      "-------------------------------\n",
      "Light Path position: \n",
      "New upper: 6959677.9433\n",
      "New lower: 6958569.0639\n",
      "Difference: 1108.8794\n"
     ]
    }
   ],
   "source": [
    "print(\"-------------------------------\")\n",
    "print(\"Grating position: \")\n",
    "print(\"New upper: {:.4f}\".format(new_path_upper[0][-2, 1]))\n",
    "print(\"New lower: {:.4f}\".format(new_path_lower[0][-2, 1]))\n",
    "\n",
    "print(\"-------------------------------\")\n",
    "print(\"Light Path position: \")\n",
    "print(\"New upper: {:.4f}\".format(util.get_total_path_length(new_path_upper[0][:-1])))\n",
    "print(\"New lower: {:.4f}\".format(util.get_total_path_length(new_path_lower[0][:-1])))\n",
    "print(\"Difference: {:.4f}\".format(util.get_total_path_length(new_path_upper[0][:-1])\n",
    "                                 -util.get_total_path_length(new_path_lower[0][:-1])))"
   ]
  },
  {
   "cell_type": "code",
   "execution_count": 15,
   "metadata": {},
   "outputs": [
    {
     "data": {
      "image/png": "[encoded data removed]",
      "text/plain": [
       "<Figure size 1440x720 with 1 Axes>"
      ]
     },
     "metadata": {
      "needs_background": "light"
     },
     "output_type": "display_data"
    }
   ],
   "source": [
    "fig = plt.figure(figsize=(20,10))\n",
    "ax = fig.add_subplot(111)\n",
    "\n",
    "for x in range(8):\n",
    "    ax.plot([new_crystal[x].boundary[y][2]/1000 for y in [0, 1, 2, 3, 0]],\n",
    "             [new_crystal[x].boundary[y][1]/1000 for y in [0, 1, 2, 3, 0]],\n",
    "            'k')\n",
    "    \n",
    "for x in range(4):\n",
    "    ax.plot([new_crystal_lower[x].boundary[y][2]/1000 for y in [0, 1, 2, 3, 0]],\n",
    "             [new_crystal_lower[x].boundary[y][1]/1000 for y in [0, 1, 2, 3, 0]],\n",
    "            'k')\n",
    "\n",
    "ax.plot(new_path_upper[0][:,2]/1000,\n",
    "        new_path_upper[0][:,1]/1000,'g')\n",
    "\n",
    "ax.plot(new_path_lower[0][:,2]/1000,\n",
    "        new_path_lower[0][:,1]/1000,'r')\n",
    "\n",
    "ax.set_aspect(\"equal\")\n",
    "ax.set_xlim([0, 1200])\n",
    "\n",
    "plt.show()"
   ]
  },
  {
   "cell_type": "code",
   "execution_count": 16,
   "metadata": {},
   "outputs": [
    {
     "data": {
      "image/png": "[encoded data removed]",
      "text/plain": [
       "<Figure size 360x360 with 1 Axes>"
      ]
     },
     "metadata": {
      "needs_background": "light"
     },
     "output_type": "display_data"
    }
   ],
   "source": [
    "fig = plt.figure(figsize=(5,5))\n",
    "ax = fig.add_subplot(111)\n",
    "\n",
    "for x in range(8):\n",
    "    ax.plot([new_crystal[x].boundary[y][2]/1000 for y in [0, 1, 2, 3, 0]],\n",
    "             [new_crystal[x].boundary[y][1]/1000 for y in [0, 1, 2, 3, 0]],\n",
    "            'k')\n",
    "    \n",
    "for x in range(4):\n",
    "    ax.plot([new_crystal_lower[x].boundary[y][2]/1000 for y in [0, 1, 2, 3, 0]],\n",
    "             [new_crystal_lower[x].boundary[y][1]/1000 for y in [0, 1, 2, 3, 0]],\n",
    "            'k')\n",
    "\n",
    "ax.plot(new_path_upper[0][:,2]/1000,\n",
    "        new_path_upper[0][:,1]/1000,'g')\n",
    "\n",
    "ax.plot(new_path_lower[0][:,2]/1000,\n",
    "        new_path_lower[0][:,1]/1000,'r')\n",
    "\n",
    "ax.set_aspect(\"equal\")\n",
    "ax.set_ylim([new_path_lower[0][2,1]/1000 - 3, new_path_lower[0][2,1]/1000 + 3])\n",
    "ax.set_xlim([new_path_lower[0][2,2]/1000 - 3, new_path_lower[0][2,2]/1000 + 3])\n",
    "\n",
    "plt.show()"
   ]
  },
  {
   "cell_type": "code",
   "execution_count": 17,
   "metadata": {},
   "outputs": [
    {
     "data": {
      "image/png": "[encoded data removed]",
      "text/plain": [
       "<Figure size 360x360 with 1 Axes>"
      ]
     },
     "metadata": {
      "needs_background": "light"
     },
     "output_type": "display_data"
    }
   ],
   "source": [
    "fig = plt.figure(figsize=(5,5))\n",
    "ax = fig.add_subplot(111)\n",
    "\n",
    "for x in range(8):\n",
    "    ax.plot([new_crystal[x].boundary[y][2]/1000 for y in [0, 1, 2, 3, 0]],\n",
    "             [new_crystal[x].boundary[y][1]/1000 for y in [0, 1, 2, 3, 0]],\n",
    "            'k')\n",
    "    \n",
    "for x in range(4):\n",
    "    ax.plot([new_crystal_lower[x].boundary[y][2]/1000 for y in [0, 1, 2, 3, 0]],\n",
    "             [new_crystal_lower[x].boundary[y][1]/1000 for y in [0, 1, 2, 3, 0]],\n",
    "            'k')\n",
    "\n",
    "ax.plot(new_path_upper[0][:,2]/1000,\n",
    "        new_path_upper[0][:,1]/1000,'g')\n",
    "\n",
    "ax.plot(new_path_lower[0][:,2]/1000,\n",
    "        new_path_lower[0][:,1]/1000,'r')\n",
    "\n",
    "ax.set_aspect(\"equal\")\n",
    "ax.set_ylim([new_path_lower[0][-3,1]/1000 - 5, new_path_lower[0][-3,1]/1000 + 5])\n",
    "ax.set_xlim([new_path_lower[0][-3,2]/1000 - 5, new_path_lower[0][-3,2]/1000 + 5])\n",
    "\n",
    "plt.show()"
   ]
  },
  {
   "cell_type": "code",
   "execution_count": null,
   "metadata": {},
   "outputs": [],
   "source": []
  }
 ],
 "metadata": {
  "kernelspec": {
   "display_name": "Python 3",
   "language": "python",
   "name": "python3"
  },
  "language_info": {
   "codemirror_mode": {
    "name": "ipython",
    "version": 3
   },
   "file_extension": ".py",
   "mimetype": "text/x-python",
   "name": "python",
   "nbconvert_exporter": "python",
   "pygments_lexer": "ipython3",
   "version": "3.6.12"
  }
 },
 "nbformat": 4,
 "nbformat_minor": 2
}
