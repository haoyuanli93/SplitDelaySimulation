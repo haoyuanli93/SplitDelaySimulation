{
 "cells": [
  {
   "cell_type": "code",
   "execution_count": 1,
   "metadata": {
    "scrolled": false
   },
   "outputs": [],
   "source": [
    "import numpy as np\n",
    "import sys\n",
    "import matplotlib.pyplot as plt\n",
    "import time\n",
    "\n",
    "sys.path.append(r\"../\")\n",
    "\n",
    "from CrystalDiff import util, pulse, lclsutil, crystal, lightpath, multidevice, groutine, misc\n",
    "from CrystalDiff.SplitDelayCrystalModel import get_crystal_in_delay_fixed_branch, get_crystals_in_delayed_branch\n",
    "from CrystalDiff.SplitDelayCrystalModel import align_delay_fixed_branch, align_delayed_branch, get_light_path"
   ]
  },
  {
   "cell_type": "markdown",
   "metadata": {},
   "source": [
    "# Define the pulse and grating"
   ]
  },
  {
   "cell_type": "code",
   "execution_count": 2,
   "metadata": {},
   "outputs": [],
   "source": [
    "# ----------------------------------------------------------------------------------------------------------\n",
    "#                       Step 1: Grating\n",
    "# ---------------------------------------------------------------------------------------------------------- \n",
    "grating_list = [crystal.RectangleGrating(), crystal.RectangleGrating()]\n",
    "grating_list[0].set_a(0.25)\n",
    "grating_list[0].set_b(0.25)\n",
    "grating_list[1].set_a(0.25)\n",
    "grating_list[1].set_b(0.25)\n",
    "\n",
    "\n",
    "# -----------------------\n",
    "#   Set spatial position\n",
    "# -----------------------\n",
    "# Grating_position_1\n",
    "g_position_1 = np.array([252.70, 660.04, 140.04]) * 1000 + np.array([0, 652.5484, -2.9e6])\n",
    "grating_list[0].set_surface_point(g_position_1)\n",
    "\n",
    "g_position_2 = np.array([252.63, 659.55, 1065.14]) * 1000 + np.array([0, -652.5484, 2.1e6])\n",
    "grating_list[1].set_surface_point(g_position_2)\n",
    "\n",
    "\n",
    "# ----------------------------------------------------------------------------------------------------------\n",
    "#                       Step 2: Pulse\n",
    "# ----------------------------------------------------------------------------------------------------------\n",
    "energy_center = 9.5  # keV\n",
    "pre_length = 1e6    # Distance of the pulse from the first grating\n",
    "\n",
    "# Set up the pulse\n",
    "FWHM = 100 # (um)\n",
    "\n",
    "my_pulse = pulse.GaussianPulse3D()\n",
    "my_pulse.set_pulse_properties(central_energy=energy_center,\n",
    "                              polar=[1., 0., 0.],\n",
    "                              sigma_x=FWHM /2. / np.sqrt(np.log(2)) / util.c,\n",
    "                              sigma_y=FWHM /2. / np.sqrt(np.log(2)) / util.c,\n",
    "                              sigma_z=1.55,\n",
    "                              x0=g_position_1 - np.array([0., 0., pre_length]))\n",
    "\n",
    "# ----------------------------------------------------------------------------------------------------------\n",
    "#                      Grating splitting angle\n",
    "# ----------------------------------------------------------------------------------------------------------\n",
    "dtheta = np.arctan(grating_list[0].base_wave_vector[1] / my_pulse.klen0)  # This is the deviation angle."
   ]
  },
  {
   "cell_type": "markdown",
   "metadata": {},
   "source": [
    "# Define and align crystals"
   ]
  },
  {
   "cell_type": "code",
   "execution_count": 3,
   "metadata": {},
   "outputs": [],
   "source": [
    "lattice_distance = 1.9201 * 1e-4   # Lattice plane distance in um\n",
    "\n",
    "chi_dict = {\"chi0\": complex(-0.10826E-04, 0.18209E-06 ),\n",
    "            \"chih_sigma\": complex(0.65800E-05, -0.17530E-06  ),\n",
    "            \"chihbar_sigma\": complex(0.65800E-05, -0.17530E-06  ),\n",
    "            \"chih_pi\": complex(0.50600E-05, -0.13313E-06),\n",
    "            \"chihbar_pi\": complex(0.50600E-05, -0.13313E-06)\n",
    "            }\n",
    "\n",
    "# Crystal in Delayed branch\n",
    "crystal_list_1 = get_crystals_in_delayed_branch(asymmetric_angles=np.deg2rad(np.array([0,-5,5,0,\n",
    "                                                                                       0,5,-5,0])),\n",
    "                                               lattice_distance=lattice_distance,\n",
    "                                               chi_dict=chi_dict)\n",
    "\n",
    "# Crystal in Delay fixed branch\n",
    "crystal_list_2 = get_crystal_in_delay_fixed_branch(lattice_distance=lattice_distance,\n",
    "                                               chi_dict=chi_dict)\n",
    "\n",
    "###################################################################\n",
    "#    Align the crystals\n",
    "###################################################################\n",
    "# Bragg angle\n",
    "bragg = np.radians(19.868)\n",
    "\n",
    "#################################################################\n",
    "#        Delayed Branch\n",
    "#################################################################\n",
    "crystal_list_1 = align_delayed_branch(delayed_branch_crystals = crystal_list_1,\n",
    "                                      angle_offset = dtheta,\n",
    "                                      bragg = bragg + 530e-6,\n",
    "                                      tweak = np.array([0,-1035e-6,-1035e-6,0]))\n",
    "\n",
    "#################################################################\n",
    "#        Delay-fixed Branch\n",
    "#################################################################\n",
    "crystal_list_2 = align_delay_fixed_branch(delay_fixed_branch_crystals = crystal_list_2,\n",
    "                                          angle_offset = -dtheta,\n",
    "                                          bragg =  bragg + 533e-6,\n",
    "                                          tweak = 1045e-6)"
   ]
  },
  {
   "cell_type": "markdown",
   "metadata": {},
   "source": [
    "# Tune crystal positions to achieve spatial and temporal overlap"
   ]
  },
  {
   "cell_type": "code",
   "execution_count": 4,
   "metadata": {},
   "outputs": [],
   "source": [
    "t23_motion = 1263.0686890313366\n",
    "t5_motion = -358.\n",
    "\n",
    "(new_path_upper,\n",
    " new_path_lower,\n",
    " new_crystal,\n",
    " new_crystal_lower) = get_light_path(ref_crystal_up = crystal_list_1,\n",
    "                                     ref_crystal_low = crystal_list_2,\n",
    "                                     ref_grating = grating_list,\n",
    "                                     ref_pulse = my_pulse,\n",
    "                                     shift_upper = np.array([2325.5 - 360 + t23_motion, ] * 2 +\n",
    "                                                            [-2325.5 - 360 + t23_motion,] * 2 + \n",
    "                                                            [0,] * 2 +\n",
    "                                                            [3961 + t5_motion,] * 2),\n",
    "                                     shift_lower = [0,] * 2 + [1900,]*2)"
   ]
  },
  {
   "cell_type": "code",
   "execution_count": 5,
   "metadata": {},
   "outputs": [
    {
     "name": "stdout",
     "output_type": "stream",
     "text": [
      "-------------------------------\n",
      "Grating position: \n",
      "New upper: 660568.1885\n",
      "New lower: 660368.6155\n",
      "-------------------------------\n",
      "Light Path position: \n",
      "New upper: 6960184.8301\n",
      "New lower: 6959732.0458\n",
      "Difference: 452.7843\n"
     ]
    }
   ],
   "source": [
    "print(\"-------------------------------\")\n",
    "print(\"Grating position: \")\n",
    "print(\"New upper: {:.4f}\".format(new_path_upper[0][-2, 1]))\n",
    "print(\"New lower: {:.4f}\".format(new_path_lower[0][-2, 1]))\n",
    "\n",
    "print(\"-------------------------------\")\n",
    "print(\"Light Path position: \")\n",
    "print(\"New upper: {:.4f}\".format(util.get_total_path_length(new_path_upper[0][:-1])))\n",
    "print(\"New lower: {:.4f}\".format(util.get_total_path_length(new_path_lower[0][:-1])))\n",
    "print(\"Difference: {:.4f}\".format(util.get_total_path_length(new_path_upper[0][:-1])\n",
    "                                 -util.get_total_path_length(new_path_lower[0][:-1])))"
   ]
  },
  {
   "cell_type": "code",
   "execution_count": 6,
   "metadata": {},
   "outputs": [
    {
     "data": {
      "image/png": "[encoded data removed]",
      "text/plain": [
       "<Figure size 1440x720 with 1 Axes>"
      ]
     },
     "metadata": {
      "needs_background": "light"
     },
     "output_type": "display_data"
    }
   ],
   "source": [
    "fig = plt.figure(figsize=(20,10))\n",
    "ax = fig.add_subplot(111)\n",
    "\n",
    "for x in range(8):\n",
    "    ax.plot([new_crystal[x].boundary[y][2]/1000 for y in [0, 1, 2, 3, 0]],\n",
    "             [new_crystal[x].boundary[y][1]/1000 for y in [0, 1, 2, 3, 0]],\n",
    "            'k')\n",
    "    \n",
    "for x in range(4):\n",
    "    ax.plot([new_crystal_lower[x].boundary[y][2]/1000 for y in [0, 1, 2, 3, 0]],\n",
    "             [new_crystal_lower[x].boundary[y][1]/1000 for y in [0, 1, 2, 3, 0]],\n",
    "            'k')\n",
    "\n",
    "ax.plot(new_path_upper[0][:,2]/1000,\n",
    "        new_path_upper[0][:,1]/1000,'g')\n",
    "\n",
    "ax.plot(new_path_lower[0][:,2]/1000,\n",
    "        new_path_lower[0][:,1]/1000,'r')\n",
    "\n",
    "ax.set_aspect(\"equal\")\n",
    "ax.set_xlim([0, 1200])\n",
    "\n",
    "plt.show()"
   ]
  },
  {
   "cell_type": "markdown",
   "metadata": {},
   "source": [
    "# Get the 2D field"
   ]
  },
  {
   "cell_type": "code",
   "execution_count": 7,
   "metadata": {},
   "outputs": [],
   "source": [
    "# ~~~~~~~~~~~~~~~~~~~~~~~~~~~~~~~~~~~~~~~~~~~~~~~~~~~~~~~~~~~~~~~~~~~~~~~\n",
    "#                  Get the momentum mesh\n",
    "# ~~~~~~~~~~~~~~~~~~~~~~~~~~~~~~~~~~~~~~~~~~~~~~~~~~~~~~~~~~~~~~~~~~~~~~~\n",
    "number_x = 2\n",
    "number_y = 2 ** 9\n",
    "number_z = 2 ** 15\n",
    "kx_grid, ky_grid, kz_grid, axis_info = util.get_k_mesh_3d(number_x=number_x,\n",
    "                                                          number_y=number_y,\n",
    "                                                          number_z=number_z,\n",
    "                                                          delta_e_x=1e-50,\n",
    "                                                          delta_e_y=5e-4,\n",
    "                                                          delta_e_z=2e-3)\n",
    "kz_grid += my_pulse.klen0\n",
    "\n",
    "# Apply fft shift\n",
    "# kx_grid = np.ascontiguousarray(np.fft.fftshift(kx_grid))\n",
    "kx_grid = np.zeros(1, np.float64)\n",
    "number_x = 1\n",
    "ky_grid = np.ascontiguousarray(np.fft.fftshift(ky_grid))\n",
    "kz_grid = np.ascontiguousarray(np.fft.fftshift(kz_grid))\n",
    "\n",
    "# Apply fft shift\n",
    "#kx_grid = np.zeros(1, np.float64)\n",
    "#number_x = 1\n",
    "#ky_grid = np.zeros(1, np.float64)\n",
    "#number_y = 1\n",
    "#kz_grid = np.ascontiguousarray(np.fft.fftshift(kz_grid))"
   ]
  },
  {
   "cell_type": "code",
   "execution_count": 8,
   "metadata": {},
   "outputs": [
    {
     "name": "stdout",
     "output_type": "stream",
     "text": [
      "It takes 0.48 seconds to prepare the variables.\n",
      "It takes 26.81 seconds to get the field for branch 1.\n"
     ]
    }
   ],
   "source": [
    "total_path = 20e6\n",
    "observation = new_path_upper[0][-1]\n",
    "\n",
    "crystal_list = list(range(10))\n",
    "crystal_list[0] = grating_list[0]\n",
    "crystal_list[1:-1] = new_crystal[:]\n",
    "crystal_list[-1] = grating_list[1]\n",
    "\n",
    "# Set the range of the index to save\n",
    "z_idx_range = number_z\n",
    "num1 = 800\n",
    "num2 = z_idx_range - num1\n",
    "d_num = 512\n",
    "\n",
    "# -------------------------------------------------------------\n",
    "#            Get Field for variable branch\n",
    "# -------------------------------------------------------------\n",
    "tic = time.time()\n",
    "\n",
    "(result_3d_var,\n",
    " result_2d_var,\n",
    " check_var\n",
    ") = groutine.get_diffraction_field(crystal_list = crystal_list,\n",
    "                                 total_path = total_path, \n",
    "                                 observation = observation,\n",
    "                                 my_pulse = my_pulse,\n",
    "                                 kx_grid = kx_grid,\n",
    "                                 ky_grid = ky_grid,\n",
    "                                 kz_grid = kz_grid,\n",
    "                                 pulse_delay_time = 0.,\n",
    "                                 pulse_k0_final = np.array([0.,0.,my_pulse.klen0]),\n",
    "                                 grating_orders = [1.,-1],\n",
    "                                 number_x = number_x,\n",
    "                                 number_y = number_y,\n",
    "                                 number_z = number_z,\n",
    "                                 z_idx_range = z_idx_range,\n",
    "                                idx_start_1=number_z - num1,\n",
    "                                idx_start_2=0,\n",
    "                                 num1 = num1,\n",
    "                                 num2 = num2, \n",
    "                                 d_num = 512)\n",
    "\n",
    "\n",
    "toc = time.time()\n",
    "print(\"It takes {:.2f} seconds to get the field for branch 1.\".format(toc - tic))"
   ]
  },
  {
   "cell_type": "code",
   "execution_count": 9,
   "metadata": {},
   "outputs": [
    {
     "data": {
      "image/png": "[encoded data removed]",
      "text/plain": [
       "<Figure size 1008x360 with 1 Axes>"
      ]
     },
     "metadata": {
      "needs_background": "light"
     },
     "output_type": "display_data"
    }
   ],
   "source": [
    "# Set up the canvas\n",
    "fig, axes = plt.subplots(nrows=1, ncols=1)\n",
    "fig.set_figheight(5)\n",
    "fig.set_figwidth(14)\n",
    "\n",
    "axes.plot(axis_info[\"z_time_idx\"], np.sum(np.square(np.abs(result_3d_var['efield_3d'])), axis=(0,1,3)))\n",
    "axes.set_xlim([-16200, -16000])\n",
    "plt.show()"
   ]
  },
  {
   "cell_type": "code",
   "execution_count": 10,
   "metadata": {},
   "outputs": [
    {
     "data": {
      "text/plain": [
       "8.271335324103347"
      ]
     },
     "execution_count": 10,
     "metadata": {},
     "output_type": "execute_result"
    }
   ],
   "source": [
    "misc.get_fwhm(axis_info['z_time_idx'], np.sum(np.square(np.abs(result_3d_var['efield_3d'])), axis=(0,1,3)))"
   ]
  },
  {
   "cell_type": "code",
   "execution_count": 11,
   "metadata": {},
   "outputs": [
    {
     "name": "stdout",
     "output_type": "stream",
     "text": [
      "It takes 0.61 seconds to prepare the variables.\n",
      "It takes 24.13 seconds to get the field for branch 1.\n"
     ]
    }
   ],
   "source": [
    "total_path = 20e6\n",
    "observation = new_path_upper[0][-1]\n",
    "\n",
    "crystal_list = list(range(6))\n",
    "crystal_list[0] = grating_list[0]\n",
    "crystal_list[1:-1] = new_crystal_lower[:]\n",
    "crystal_list[-1] = grating_list[1]\n",
    "\n",
    "# Set the range of the index to save\n",
    "z_idx_range = number_z\n",
    "num1 = 800\n",
    "num2 = z_idx_range - num1\n",
    "d_num = 512\n",
    "\n",
    "# -------------------------------------------------------------\n",
    "#            Get Field for variable branch\n",
    "# -------------------------------------------------------------\n",
    "tic = time.time()\n",
    "\n",
    "(result_3d_fix,\n",
    " result_2d_fix,\n",
    " check_fix\n",
    ") = groutine.get_diffraction_field(crystal_list = crystal_list,\n",
    "                                 total_path = total_path, \n",
    "                                 observation = observation,\n",
    "                                 my_pulse = my_pulse,\n",
    "                                 kx_grid = kx_grid,\n",
    "                                 ky_grid = ky_grid,\n",
    "                                 kz_grid = kz_grid,\n",
    "                                 pulse_delay_time = 0.,\n",
    "                                 pulse_k0_final = np.array([0.,0.,my_pulse.klen0]),\n",
    "                                 grating_orders = [-1.,1],\n",
    "                                 number_x = number_x,\n",
    "                                 number_y = number_y,\n",
    "                                 number_z = number_z,\n",
    "                                 z_idx_range = z_idx_range,\n",
    "                                   idx_start_1=number_z - num1,\n",
    "                                   idx_start_2=0,\n",
    "                                 num1 = num1,\n",
    "                                 num2 = num2, \n",
    "                                 d_num = 512)\n",
    "\n",
    "\n",
    "toc = time.time()\n",
    "print(\"It takes {:.2f} seconds to get the field for branch 1.\".format(toc - tic))"
   ]
  },
  {
   "cell_type": "code",
   "execution_count": 18,
   "metadata": {},
   "outputs": [
    {
     "data": {
      "image/png": "[encoded data removed]",
      "text/plain": [
       "<Figure size 1008x360 with 1 Axes>"
      ]
     },
     "metadata": {
      "needs_background": "light"
     },
     "output_type": "display_data"
    }
   ],
   "source": [
    "# Set up the canvas\n",
    "fig, axes = plt.subplots(nrows=1, ncols=1)\n",
    "fig.set_figheight(5)\n",
    "fig.set_figwidth(14)\n",
    "\n",
    "axes.plot(axis_info[\"z_time_idx\"], np.sum(np.square(np.abs(result_3d_fix['efield_3d'])), axis=(0,1,3)))\n",
    "axes.set_xlim([-15500, -15300])\n",
    "plt.show()"
   ]
  },
  {
   "cell_type": "code",
   "execution_count": 13,
   "metadata": {},
   "outputs": [
    {
     "data": {
      "text/plain": [
       "5.1695845775666385"
      ]
     },
     "execution_count": 13,
     "metadata": {},
     "output_type": "execute_result"
    }
   ],
   "source": [
    "misc.get_fwhm(axis_info['z_time_idx'], np.sum(np.square(np.abs(result_3d_fix['efield_3d'])), axis=(0,1,3)))"
   ]
  },
  {
   "cell_type": "code",
   "execution_count": 14,
   "metadata": {},
   "outputs": [
    {
     "name": "stdout",
     "output_type": "stream",
     "text": [
      "The efficiency of the branch with a variable delay time is 0.057.\n",
      "The efficiency of the branch with a fixed delay time is 0.076.\n"
     ]
    }
   ],
   "source": [
    "# Calculate the incident total energy\n",
    "#energy_in = 8 * np.pi ** 2 * (FWHM /2. / np.sqrt(np.log(2)) / util.c) ** 2 * util.c **2\n",
    "\n",
    "energy_in = my_pulse.scaling ** 2 * np.pi / np.sqrt(my_pulse.sigma_mat[1,1]) / np.sqrt(my_pulse.sigma_mat[2,2])\n",
    "\n",
    "\n",
    "# Calculate the energy of the branch with variable delay time\n",
    "energy_var = np.sum(np.square(np.abs(result_3d_var['efield_spec_3d']))) * (kz_grid[1] - kz_grid[0]) * (ky_grid[1] - ky_grid[0]) \n",
    "# Calculate the energy of the branch with fixed delay time\n",
    "energy_fix = np.sum(np.square(np.abs(result_3d_fix['efield_spec_3d']))) * (kz_grid[1] - kz_grid[0]) * (ky_grid[1] - ky_grid[0])\n",
    "\n",
    "print(\"The efficiency of the branch with a variable delay time is {:.3f}.\".format(energy_var / energy_in))\n",
    "print(\"The efficiency of the branch with a fixed delay time is {:.3f}.\".format(energy_fix / energy_in))"
   ]
  },
  {
   "cell_type": "markdown",
   "metadata": {},
   "source": [
    "# Add absorptions and get the energy efficiency\n",
    "Here, vcc means the delayed branch. cc means the delay-fixed branch."
   ]
  },
  {
   "cell_type": "code",
   "execution_count": 15,
   "metadata": {},
   "outputs": [
    {
     "name": "stdout",
     "output_type": "stream",
     "text": [
      "The overall energy efficiency of the device is :1.80%\n"
     ]
    }
   ],
   "source": [
    "# Initial energy efficiency \n",
    "vcc_eff_init = energy_var / energy_in\n",
    "cc_eff_init = energy_fix / energy_in\n",
    "\n",
    "##################################################################################\n",
    "#       Kapton coef\n",
    "##################################################################################\n",
    "# Get the kapton efficiency\n",
    "kapton_absorb_coef = 2257.9 # um\n",
    "vcc_kapton_length = 30 * 6 + 125 + 3 * 50.\n",
    "cc_kapton_length = 30 * 6 + 100.\n",
    "\n",
    "# Get the coeff\n",
    "vcc_kapton_coef = np.exp(- vcc_kapton_length / kapton_absorb_coef)\n",
    "cc_kapton_coef = np.exp(- cc_kapton_length / kapton_absorb_coef)\n",
    "\n",
    "##################################################################################\n",
    "#        Air coef\n",
    "##################################################################################\n",
    "air_absorb_length = 0.618 # -np.log(0.532)\n",
    "air_length = 0.5 + 1.2 * 0.1 # Conver the air path in the helium to pure air\n",
    "air_coef = np.exp(-air_length * air_absorb_length)\n",
    "\n",
    "##################################################################################\n",
    "#        Diamend coef\n",
    "##################################################################################\n",
    "diamond_absorption_factor = - 7.3453\n",
    "diamond_absorption_factor /= 1e4  # Convert to um\n",
    "diamond_thickness =  60 + 2 * 100. / np.cos(np.deg2rad(72))\n",
    "\n",
    "diamond_absorption_coef = np.exp(diamond_absorption_factor * diamond_thickness)\n",
    "\n",
    "###########################################################\n",
    "#      Calculate the overall energy efficiency\n",
    "###########################################################\n",
    "overall_energy_efficiency = vcc_eff_init * vcc_kapton_coef * air_coef * diamond_absorption_coef\n",
    "overall_energy_efficiency += cc_eff_init * cc_kapton_coef * air_coef * diamond_absorption_coef\n",
    "\n",
    "###########################################################\n",
    "#      Compensate for the imperfection of the grating shape\n",
    "###########################################################\n",
    "overall_energy_efficiency = overall_energy_efficiency * (0.2 / 0.32) ** 2\n",
    "\n",
    "print(\"The overall energy efficiency of the device is :{:.2f}%\".format(overall_energy_efficiency * 100))"
   ]
  },
  {
   "cell_type": "markdown",
   "metadata": {},
   "source": [
    "# Calculate the energy efficiency of the Channel-cut crystals only"
   ]
  },
  {
   "cell_type": "code",
   "execution_count": 16,
   "metadata": {},
   "outputs": [
    {
     "name": "stdout",
     "output_type": "stream",
     "text": [
      "SD table efficiency is :31.36%\n"
     ]
    }
   ],
   "source": [
    "# Initial energy efficiency \n",
    "vcc_eff_init = energy_var / energy_in\n",
    "cc_eff_init = energy_fix / energy_in\n",
    "\n",
    "##################################################################################\n",
    "#       Kapton coef\n",
    "##################################################################################\n",
    "# Get the kapton efficiency\n",
    "kapton_absorb_coef = 2257.9 # um\n",
    "vcc_kapton_length = 30 * 2 + 125 + 3 * 50.\n",
    "cc_kapton_length = 30 * 2 + 100.\n",
    "\n",
    "# Get the coeff\n",
    "vcc_kapton_coef = np.exp(- vcc_kapton_length / kapton_absorb_coef)\n",
    "cc_kapton_coef = np.exp(- cc_kapton_length / kapton_absorb_coef)\n",
    "\n",
    "##################################################################################\n",
    "#        Air coef\n",
    "##################################################################################\n",
    "air_absorb_length = 0.618\n",
    "air_length = 0.1 + 1.2 * 0.1 # Conver the air path in the helium to pure air\n",
    "air_coef = np.exp(-air_length * air_absorb_length)\n",
    "\n",
    "##################################################################################\n",
    "#        Diamend coef\n",
    "##################################################################################\n",
    "diamond_absorption_factor = - 7.3453\n",
    "diamond_absorption_factor /= 1e4  # Convert to um\n",
    "\n",
    "diamond_thickness =  60\n",
    "\n",
    "diamond_absorption_coef = np.exp(diamond_absorption_factor * diamond_thickness)\n",
    "\n",
    "###########################################################\n",
    "#      Calculate the Channel-cut efficiency\n",
    "###########################################################\n",
    "sd_table_efficiency = vcc_eff_init * vcc_kapton_coef * air_coef * diamond_absorption_coef\n",
    "sd_table_efficiency = sd_table_efficiency + cc_eff_init * cc_kapton_coef * air_coef * diamond_absorption_coef\n",
    "\n",
    "# Remove the grating effect\n",
    "sd_table_efficiency /= 0.4 ** 2\n",
    "\n",
    "sd_table_efficiency /= 2.\n",
    "\n",
    "print(\"SD table efficiency is :{:.2f}%\".format(sd_table_efficiency * 100))"
   ]
  },
  {
   "cell_type": "code",
   "execution_count": null,
   "metadata": {},
   "outputs": [],
   "source": []
  }
 ],
 "metadata": {
  "kernelspec": {
   "display_name": "Python 3",
   "language": "python",
   "name": "python3"
  },
  "language_info": {
   "codemirror_mode": {
    "name": "ipython",
    "version": 3
   },
   "file_extension": ".py",
   "mimetype": "text/x-python",
   "name": "python",
   "nbconvert_exporter": "python",
   "pygments_lexer": "ipython3",
   "version": "3.6.12"
  }
 },
 "nbformat": 4,
 "nbformat_minor": 2
}
